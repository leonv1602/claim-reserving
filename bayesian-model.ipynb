{
 "cells": [
  {
   "cell_type": "markdown",
   "metadata": {},
   "source": [
    "# Bayesian Analysis\n",
    "\n",
    "5 August 2023, learning to create from scratch Bayesian Computation to model Levelled Chain Ladder (LCL) and Correlated Chain Ladder from CAS Monograph No. 8 — Stochastic Loss Reserving Using Bayesian MCMC Models (2nd edition). The details about Bayesian Analysis can be found in this link [Bayesian Analysis](https://bayesiancomputationbook.com/markdown/chp_01.html)."
   ]
  },
  {
   "cell_type": "markdown",
   "metadata": {},
   "source": [
    "# Motivation\n",
    "We use bayesian analysis to have a better prediction with small set of data. That being said, IBNR Data is one of the case where bayesian analysis works better. But with a better result, there must also a price to be paid. That is expert's input. The main point of bayesian analysis is to choose prior distributions and it is not an easy task. But again, since this is a learning repository, we will learn together :D"
   ]
  },
  {
   "cell_type": "markdown",
   "metadata": {},
   "source": [
    "# Sampler\n",
    "We use sampling because it is much easier than to evaluate a tedious integral. Another question that will pop up is, how to design such sampler that can be use for analysis ?"
   ]
  },
  {
   "cell_type": "code",
   "execution_count": 1,
   "metadata": {},
   "outputs": [],
   "source": [
    "import numpy as np"
   ]
  },
  {
   "cell_type": "markdown",
   "metadata": {},
   "source": [
    "    "
   ]
  }
 ],
 "metadata": {
  "kernelspec": {
   "display_name": "Python 3",
   "language": "python",
   "name": "python3"
  },
  "language_info": {
   "codemirror_mode": {
    "name": "ipython",
    "version": 3
   },
   "file_extension": ".py",
   "mimetype": "text/x-python",
   "name": "python",
   "nbconvert_exporter": "python",
   "pygments_lexer": "ipython3",
   "version": "3.10.0"
  },
  "orig_nbformat": 4
 },
 "nbformat": 4,
 "nbformat_minor": 2
}
