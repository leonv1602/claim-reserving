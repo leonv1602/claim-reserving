{
 "cells": [
  {
   "attachments": {},
   "cell_type": "markdown",
   "metadata": {},
   "source": [
    "# Introduction \n",
    "\n",
    "In this section we are going to learn about 2 types of reserve in Insurance and their differences. We also going to learn about the data of claim and what information that we can extract from it. "
   ]
  },
  {
   "attachments": {},
   "cell_type": "markdown",
   "metadata": {},
   "source": [
    "# Reserving\n",
    "\n",
    "There are 2 types of reserves in insurance, that is claim reserve and premium reserve. Claim reserve is a reserve that will be used to pay future claim while premium reserve is a reserve from premium. So why do we have 2 types of reserves ? \n",
    "\n",
    "So assume A has a insurance policy for his vehicle with amount of premium \\$120 per year for 1 year coverage. If we assume that he bought the insurance from 1 January 20XX then the insurance company will have \\$ 120 of **premium reserve**, which is all of his premiums, and \\$ 0 of **claim reserve** (if we assume that A is the only policy holder of this insurance, which is unrealistic) because no one knows whether A will propose any claim. \n",
    "\n",
    "But, if he never propose claim until 31 June 20XX. Then some of his premium will be consider as income for the company and it will called as **Earned Premium** while the rest will be called as **Unearned Premium** and the simplest formula that can be use is pro-rata basis or the insurance will take a proportionate amount of premium and consider it as income based on the lifetime of the policy. \n",
    "\n",
    "Back to our story, on 31 June 20XX, since 6 months have passed and there are 6 other months left, insurance company will have \\$ 60 of premium reserve and \\$60 as Earned premium and still \\$ 0 of claim reserve.\n",
    "\n",
    "But what if, he proposed claim in 1 July 20XX and let say he proposed for \\$ 75. There are 3 possibilites, the claim is rejected, the claim is paid under the proposed amount, claim is paid in the exact amount. This is due to there are several procedures that need to be done such as, inspection of the vehicle to make sure that the accident is covered by the insurance, collecting relevant documents and approval from the insurance, etc."
   ]
  },
  {
   "cell_type": "markdown",
   "metadata": {},
   "source": []
  }
 ],
 "metadata": {
  "language_info": {
   "name": "python"
  },
  "orig_nbformat": 4
 },
 "nbformat": 4,
 "nbformat_minor": 2
}
